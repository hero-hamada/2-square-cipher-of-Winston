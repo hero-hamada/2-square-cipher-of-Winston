{
 "cells": [
  {
   "cell_type": "code",
   "execution_count": 11,
   "metadata": {},
   "outputs": [
    {
     "name": "stdout",
     "output_type": "stream",
     "text": [
      "Type ur message: love\n",
      "type ur 1st key word: love\n",
      "type ur 2d key word: piece\n",
      "[['l' 'o' 'v' 'e' 'a']\n",
      " ['b' 'c' 'd' 'f' 'g']\n",
      " ['h' 'i' 'k' 'm' 'n']\n",
      " ['p' 'q' 'r' 's' 't']\n",
      " ['u' 'w' 'х' 'у' 'z']]\n",
      "[['p' 'i' 'e' 'c' 'e']\n",
      " ['a' 'b' 'd' 'f' 'g']\n",
      " ['h' 'k' 'l' 'm' 'n']\n",
      " ['o' 'q' 'r' 's' 't']\n",
      " ['u' 'v' 'w' 'х' 'у']]\n",
      "['lo', 've']\n"
     ]
    },
    {
     "data": {
      "text/plain": [
       "'ppve'"
      ]
     },
     "execution_count": 11,
     "metadata": {},
     "output_type": "execute_result"
    }
   ],
   "source": [
    "mess = input(\"Type ur message: \")\n",
    "\n",
    "mesSplit = \"\"\n",
    "\n",
    "# for split my message by two words\n",
    "for i in range(0,len(mess)):    \n",
    "    if i % 2 == 0 and i != 0:\n",
    "        mesSplit += \"#\"\n",
    "        \n",
    "    mesSplit += mess[i]\n",
    "    mesArray = mesSplit.split(\"#\")\n",
    "\n",
    "#alfabet\n",
    "\n",
    "t =  \"a, b, c, d, e, f, g, h, i, k, l, m, n, o, p, q, r, s, t, u, v, w, х, у, z\"\n",
    "alfabet = ''.join(t.split(\", \"))\n",
    "\n",
    "# 1st we need to create 2 ciphered aplfabets\n",
    "\n",
    "f = input(\"type ur 1st key word: \")\n",
    "s = input(\"type ur 2d key word: \")\n",
    "\n",
    "def remover(st, alf): # to remove same chars with key words in alfabet\n",
    "    for i in range(0, len(st)):\n",
    "        if st[i] in alf:\n",
    "            alf = alf.replace(st[i],\"\")\n",
    "    \n",
    "    st = st + alf\n",
    "    return st\n",
    "\n",
    "second = remover(s, alfabet)\n",
    "first = remover(f, alfabet)\n",
    "\n",
    "#plot matrixes for cipher\n",
    "\n",
    "import numpy as np\n",
    "\n",
    "def arrayker(st):\n",
    "    arr = np.full([5, 5], \"0\")\n",
    "    k = 0\n",
    "    for i in range(0, 5):\n",
    "        for j in range(0, 5):\n",
    "            arr[i][j] = st[k] # full our array with 2 ciphered alfabets\n",
    "            k = k + 1\n",
    "    return arr\n",
    "\n",
    "fm = arrayker(first)\n",
    "sm = arrayker(second)\n",
    "\n",
    "print(fm)\n",
    "print(sm)\n",
    "print(mesArray)\n",
    "\n",
    "# CIPHER\n",
    "import numpy as np\n",
    "ar = np.matrix(mesArray)\n",
    "for k in range(0,len(mesArray)):\n",
    "    if len(mesArray[k]) == 2:\n",
    "        if mesArray[k][0] != \" \" and mesArray[k][1] != \" \":\n",
    "                for i in range(0, 5):\n",
    "                    for j in range(0, 5):\n",
    "                        if fm[i][j] == mesArray[k][0]:\n",
    "                            i1 = i;\n",
    "                            j1 = j;\n",
    "\n",
    "                        if sm[i][j] == mesArray[k][1]:\n",
    "                            i2 = i;\n",
    "                            j2 = j;\n",
    "                            \n",
    "                mesArray[k] = fm[i2][j1] + sm[i1][j2] # replace ciphered words\n",
    "    \n",
    "''.join(mesArray)\n",
    "\n",
    "# mesArray[2][1]\n"
   ]
  },
  {
   "cell_type": "code",
   "execution_count": null,
   "metadata": {},
   "outputs": [],
   "source": []
  },
  {
   "cell_type": "code",
   "execution_count": null,
   "metadata": {},
   "outputs": [],
   "source": []
  }
 ],
 "metadata": {
  "kernelspec": {
   "display_name": "Python 3",
   "language": "python",
   "name": "python3"
  },
  "language_info": {
   "codemirror_mode": {
    "name": "ipython",
    "version": 3
   },
   "file_extension": ".py",
   "mimetype": "text/x-python",
   "name": "python",
   "nbconvert_exporter": "python",
   "pygments_lexer": "ipython3",
   "version": "3.7.3"
  }
 },
 "nbformat": 4,
 "nbformat_minor": 2
}
